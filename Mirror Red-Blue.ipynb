{
 "cells": [
  {
   "cell_type": "code",
   "execution_count": 5,
   "id": "2a410bbb",
   "metadata": {},
   "outputs": [
    {
     "name": "stdout",
     "output_type": "stream",
     "text": [
      "Rows have been successfully swapped and appended.\n"
     ]
    }
   ],
   "source": [
    "import pandas as pd\n",
    "fightResults = pd.read_csv(\"ufc-master-elo.csv\").reset_index(drop=True)\n",
    "\n",
    "def swap_and_duplicate_fighter_metrics():\n",
    "    try:\n",
    "        # Create a list to store the new rows (after swapping)\n",
    "        rows_to_append = []\n",
    "        global fightResults\n",
    "        # Iterate over each row in fightResults\n",
    "        for idx, row in fightResults.iterrows():\n",
    "            swapped_row = row.copy()\n",
    "\n",
    "            # Swap red and blue fighter metrics\n",
    "            for column in row.index:\n",
    "                if column.startswith(\"Red\"):\n",
    "                    # Swap red to blue\n",
    "                    swapped_row[column.replace(\"Red\", \"Blue\")] = row[column]\n",
    "                elif column.startswith(\"Blue\"):\n",
    "                    # Swap blue to red\n",
    "                    swapped_row[column.replace(\"Blue\", \"Red\")] = row[column]\n",
    "\n",
    "            \n",
    "            # Swap the outcome\n",
    "            if swapped_row[\"Winner\"] == \"Red\":\n",
    "                swapped_row[\"Winner\"] = \"Blue\"\n",
    "            elif swapped_row[\"Winner\"] == \"Blue\":\n",
    "                swapped_row[\"Winner\"] = \"Red\"\n",
    "            \n",
    "            # Now, the swapped row has red and blue metrics switched. We append the swapped row.\n",
    "            rows_to_append.append(swapped_row)\n",
    "\n",
    "        # Create a new DataFrame from the rows we just added (the swapped rows)\n",
    "        swapped_df = pd.DataFrame(rows_to_append)\n",
    "\n",
    "        # Append the new rows to the original DataFrame\n",
    "        \n",
    "        fightResults = pd.concat([fightResults, swapped_df], ignore_index=True)\n",
    "\n",
    "        print(\"Rows have been successfully swapped and appended.\")\n",
    "\n",
    "    except Exception as e:\n",
    "        print(f\"Error while swapping metrics: {e}\")\n",
    "\n",
    "\n",
    "\n",
    "\n",
    "swap_and_duplicate_fighter_metrics()\n",
    "fightResults.to_csv(\"ufc-master-elo-swapped.csv\")"
   ]
  },
  {
   "cell_type": "code",
   "execution_count": 2,
   "id": "4a726f50",
   "metadata": {},
   "outputs": [
    {
     "name": "stdout",
     "output_type": "stream",
     "text": [
      "Rows have been successfully swapped and appended.\n"
     ]
    }
   ],
   "source": [
    "import pandas as pd\n",
    "fightResults = pd.read_parquet(\"april2025 embedding.parquet\").reset_index(drop=True)\n",
    "\n",
    "def swap_and_duplicate_fighter_metrics():\n",
    "    try:\n",
    "        # Create a list to store the new rows (after swapping)\n",
    "        rows_to_append = []\n",
    "        global fightResults\n",
    "        # Iterate over each row in fightResults\n",
    "        for idx, row in fightResults.iterrows():\n",
    "            swapped_row = row.copy()\n",
    "\n",
    "            # Swap red and blue fighter metrics\n",
    "            for column in row.index:\n",
    "                if column.startswith(\"red\"):\n",
    "                    # Swap red to blue\n",
    "                    swapped_row[column.replace(\"red\", \"blue\")] = row[column]\n",
    "                elif column.startswith(\"blue\"):\n",
    "                    # Swap blue to red\n",
    "                    swapped_row[column.replace(\"blue\", \"red\")] = row[column]\n",
    "                elif column.startswith(\"Red\"):\n",
    "                    # Swap red to blue\n",
    "                    swapped_row[column.replace(\"Red\", \"Blue\")] = row[column]\n",
    "                elif column.startswith(\"Blue\"):\n",
    "                    # Swap blue to red\n",
    "                    swapped_row[column.replace(\"blue\", \"red\")] = row[column]\n",
    "                elif column.startswith(\"RED_\"):\n",
    "                    # Swap red to blue\n",
    "                    swapped_row[column.replace(\"RED_\", \"BLUE_\")] = row[column]\n",
    "                elif column.startswith(\"BLUE_\"):\n",
    "                    # Swap blue to red\n",
    "                    swapped_row[column.replace(\"BLUE_\", \"RED_\")] = row[column]\n",
    "\n",
    "            \n",
    "            # Swap the outcome\n",
    "            if swapped_row[\"OUTCOME\"] == \"Blue\":\n",
    "                swapped_row[\"OUTCOME\"] = \"Red\"\n",
    "            elif swapped_row[\"OUTCOME\"] == \"Red\":\n",
    "                swapped_row[\"OUTCOME\"] = \"Blue\"\n",
    "            \n",
    "            # Now, the swapped row has red and blue metrics switched. We append the swapped row.\n",
    "            rows_to_append.append(swapped_row)\n",
    "\n",
    "        # Create a new DataFrame from the rows we just added (the swapped rows)\n",
    "        swapped_df = pd.DataFrame(rows_to_append)\n",
    "\n",
    "        # Append the new rows to the original DataFrame\n",
    "        \n",
    "        fightResults = pd.concat([fightResults, swapped_df], ignore_index=True)\n",
    "\n",
    "        print(\"Rows have been successfully swapped and appended.\")\n",
    "\n",
    "    except Exception as e:\n",
    "        print(f\"Error while swapping metrics: {e}\")\n",
    "\n",
    "\n",
    "\n",
    "\n",
    "swap_and_duplicate_fighter_metrics()\n",
    "fightResults.to_parquet(\"april2025 final.parquet\")"
   ]
  }
 ],
 "metadata": {
  "kernelspec": {
   "display_name": "Python 3",
   "language": "python",
   "name": "python3"
  },
  "language_info": {
   "codemirror_mode": {
    "name": "ipython",
    "version": 3
   },
   "file_extension": ".py",
   "mimetype": "text/x-python",
   "name": "python",
   "nbconvert_exporter": "python",
   "pygments_lexer": "ipython3",
   "version": "3.11.9"
  }
 },
 "nbformat": 4,
 "nbformat_minor": 5
}
